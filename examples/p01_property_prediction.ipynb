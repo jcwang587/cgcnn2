{
 "cells": [
  {
   "cell_type": "markdown",
   "metadata": {},
   "source": [
    "In this tutorial, we will utilize a built-in CGCNN model to make predictions on an input dataset."
   ]
  },
  {
   "cell_type": "code",
   "execution_count": 1,
   "metadata": {},
   "outputs": [],
   "source": [
    "from cgcnn2.util import cgcnn_pred\n",
    "from cgcnn2.pretrained_models import FORMATION_ENERGY_MODEL"
   ]
  },
  {
   "cell_type": "markdown",
   "metadata": {},
   "source": [
    "Get prediction results from the pre-trained model"
   ]
  },
  {
   "cell_type": "code",
   "execution_count": 2,
   "metadata": {},
   "outputs": [
    {
     "name": "stdout",
     "output_type": "stream",
     "text": [
      "=> Loaded model from 'c:\\Users\\kashk\\miniconda3\\envs\\cgcnn2-env\\Lib\\site-packages\\cgcnn2\\pretrained_models\\formation-energy-per-atom.pth.tar' (epoch 968, validation error 0.03972001800748568)\n",
      "index: 1 | cif id: 1000041 | prediction: -0.3920041620731354\n",
      "index: 2 | cif id: 1000050 | prediction: -0.41689667105674744\n",
      "index: 3 | cif id: 1101051 | prediction: 0.5375179648399353\n",
      "index: 4 | cif id: 1507756 | prediction: -1.730224847793579\n",
      "index: 5 | cif id: 7206075 | prediction: -1.5915170907974243\n",
      "index: 6 | cif id: 9000046 | prediction: 1.6135473251342773\n",
      "index: 7 | cif id: 9009743 | prediction: -0.5131262540817261\n",
      "index: 8 | cif id: 9011050 | prediction: 1.6257543563842773\n",
      "index: 9 | cif id: 9011998 | prediction: 1.69437575340271\n",
      "index: 10 | cif id: 9012304 | prediction: 1.9889413118362427\n"
     ]
    }
   ],
   "source": [
    "data_path = \"./data/sample-regression\"\n",
    "pred, _ = cgcnn_pred(model_path=FORMATION_ENERGY_MODEL, full_set=data_path)"
   ]
  }
 ],
 "metadata": {
  "kernelspec": {
   "display_name": "cgcnn2-env",
   "language": "python",
   "name": "python3"
  },
  "language_info": {
   "codemirror_mode": {
    "name": "ipython",
    "version": 3
   },
   "file_extension": ".py",
   "mimetype": "text/x-python",
   "name": "python",
   "nbconvert_exporter": "python",
   "pygments_lexer": "ipython3",
   "version": "3.11.11"
  }
 },
 "nbformat": 4,
 "nbformat_minor": 2
}
